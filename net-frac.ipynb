{
 "cells": [
  {
   "cell_type": "code",
   "execution_count": 1,
   "metadata": {},
   "outputs": [],
   "source": [
    "import numpy as np\n",
    "import scipy as scipy\n",
    "from scipy.optimize import minimize\n",
    "import timeit"
   ]
  },
  {
   "cell_type": "code",
   "execution_count": 2,
   "metadata": {},
   "outputs": [],
   "source": [
    "def obj(x):\n",
    "    sum_1 = (x[7])*(x[8])*x[3]*(x[10])*(x[11])\n",
    "    sum_2 = sum_1 + (x[6])*(x[8])*(x[9])*x[4]*(x[11])\n",
    "    sum_3 = sum_2 + (x[6])*(x[7])*(x[9])*(x[10])*x[5]\n",
    "    sum_4 = sum_3 + x[0]*(x[7])*(x[8])*x[4]*x[5]\n",
    "    sum_5 = sum_4 + (x[6])*x[1]*(x[8])*x[3]*x[5]\n",
    "    sum_6 = sum_5 + (x[6])*(x[7])*x[2]*x[3]*x[4]\n",
    "    sum_7 = sum_6 + (1/12)*((x[0]**3*x[6]**2)+(x[1]**3*x[7]**2)+(x[2]**3*x[8]**2)+(x[3]**3*x[9]**2)+(x[4]**3*x[10]**2)+(x[5]**3*x[11]**2))\n",
    "    sum_8 = sum_7 + (1/4)*((x[0]*x[6])**2*(x[1]+x[2]+x[4]+x[5])+(x[1]*x[7])**2*(x[0]+x[2]+x[3]+x[5])+(x[2]*x[8])**2*(x[0]+x[1]+x[3]+x[4]))\n",
    "    sum_9 = sum_8 + (1/4)*((x[3]*x[9])**2*(x[1]+x[2]) + (x[4]*x[10])**2*(x[0]+x[2]) + (x[5]*x[11])**2*(x[0]+x[1]))\n",
    "    \n",
    "    return -sum_9"
   ]
  },
  {
   "cell_type": "code",
   "execution_count": 3,
   "metadata": {},
   "outputs": [
    {
     "name": "stdout",
     "output_type": "stream",
     "text": [
      "[[0.507222  ]\n",
      " [0.55958958]\n",
      " [0.37015146]\n",
      " [0.29653911]\n",
      " [0.25086676]\n",
      " [0.89972627]\n",
      " [0.13142217]\n",
      " [0.64120882]\n",
      " [0.63167218]\n",
      " [0.66428925]\n",
      " [0.6907797 ]\n",
      " [0.40864197]]\n"
     ]
    }
   ],
   "source": [
    "x_init = np.random.rand(12,1)\n",
    "print(x_init)"
   ]
  },
  {
   "cell_type": "code",
   "execution_count": 4,
   "metadata": {},
   "outputs": [],
   "source": [
    "bnds = ((0, 1), (0, 1), (0, 1), (0, 1), (0, 1), (0, 1),(0, 1), (0, 1), (0, 1), (0, 1), (0, 1), (0, 1))"
   ]
  },
  {
   "cell_type": "code",
   "execution_count": 11,
   "metadata": {},
   "outputs": [],
   "source": [
    "cons = ({'type': 'ineq', 'fun': lambda x:  (x[1]+x[2]+x[9]+x[4]+x[5])-0.0402/0.1685},\n",
    "         {'type': 'ineq', 'fun': lambda x: (x[0]+x[2]+x[3]+x[10]+x[5])-0.0402/0.1685},\n",
    "         {'type': 'ineq', 'fun': lambda x: (x[0]+x[1]+x[3]+x[4]+x[11])-0.0402/0.1685},\n",
    "         {'type': 'ineq', 'fun': lambda x: (x[6]+x[1]+x[2]+x[10]+x[11])-0.0174/0.1685},\n",
    "         {'type': 'ineq', 'fun': lambda x: (x[0]+x[7]+x[2]+x[9]+x[11])-0.0174/0.1685},\n",
    "         {'type': 'ineq', 'fun': lambda x: (x[0]+x[1]+x[8]+x[9]+x[10])-0.0174/0.1685},\n",
    "         {'type': 'ineq', 'fun': lambda x: 1-x[0]-x[6]},\n",
    "         {'type': 'ineq', 'fun': lambda x: 1-x[1]-x[7]},\n",
    "         {'type': 'ineq', 'fun': lambda x: 1-x[2]-x[8]},\n",
    "         {'type': 'ineq', 'fun': lambda x: 1-x[3]-x[9]},\n",
    "         {'type': 'ineq', 'fun': lambda x: 1-x[4]-x[10]},\n",
    "         {'type': 'ineq', 'fun': lambda x: 1-x[5]-x[11]},\n",
    "         {'type': 'ineq', 'fun': lambda x: (1/(0.1675+0.0016))-np.sum(x)})"
   ]
  },
  {
   "cell_type": "code",
   "execution_count": 12,
   "metadata": {},
   "outputs": [],
   "source": [
    "ans_obj = scipy.optimize.minimize(obj, x_init, method='SLSQP', bounds=bnds, constraints=cons, tol=1e-5)"
   ]
  },
  {
   "cell_type": "code",
   "execution_count": 13,
   "metadata": {},
   "outputs": [
    {
     "name": "stdout",
     "output_type": "stream",
     "text": [
      "numerical minimizer is the vector below\n",
      "\n",
      "[9.62638789e-01 4.56317275e-02 2.02711568e-02 6.15107478e-01\n",
      " 1.00000000e+00 1.00000000e+00 3.73612112e-02 9.54368272e-01\n",
      " 9.79728843e-01 3.84892522e-01 1.23626819e-11 4.70183284e-12]\n"
     ]
    }
   ],
   "source": [
    "print('numerical minimizer is the vector below')\n",
    "\n",
    "print()\n",
    "\n",
    "print(np.transpose(ans_obj.x))"
   ]
  },
  {
   "cell_type": "code",
   "execution_count": 14,
   "metadata": {},
   "outputs": [
    {
     "name": "stdout",
     "output_type": "stream",
     "text": [
      "-0.9076273629561729 is the value of the objective function at its min\n"
     ]
    }
   ],
   "source": [
    "print(obj(ans_obj.x), 'is the value of the objective function at its min')"
   ]
  },
  {
   "cell_type": "markdown",
   "metadata": {},
   "source": [
    "Notes:\n",
    "\n",
    "* I have not yet checked for mistakes\n",
    "* Did not use true gradient and it appears I may not need to\n",
    "* Computation took <1 second for me. I did not time it, though.\n",
    "* Notice that I am actually minimizing $-f(a)$ where $f(a)$ we defined on the board. (Briefly, it was the square of the big linear sum). Therefore, $a$ is the _minimizer_ of $-f$ hence the _maximizer_ of $f$. So the maximizer equals the minimizer. But the _value_ of $f$ at its _maximizer_ is the negative of what I printed above. So:"
   ]
  },
  {
   "cell_type": "code",
   "execution_count": 15,
   "metadata": {},
   "outputs": [
    {
     "name": "stdout",
     "output_type": "stream",
     "text": [
      "0.9076273629561729 is the max value of f from the board\n"
     ]
    }
   ],
   "source": [
    "print(-obj(ans_obj.x), 'is the max value of f from the board')"
   ]
  },
  {
   "cell_type": "markdown",
   "metadata": {},
   "source": [
    "Now I believe you just need to scale this by the (positive) constant we removed:"
   ]
  },
  {
   "cell_type": "code",
   "execution_count": 16,
   "metadata": {},
   "outputs": [
    {
     "name": "stdout",
     "output_type": "stream",
     "text": [
      "0.00012328411061434874 is the max value of f from the board\n"
     ]
    }
   ],
   "source": [
    "print(-(.1685)**5*obj(ans_obj.x), 'is the max value of f from the board')"
   ]
  }
 ],
 "metadata": {
  "kernelspec": {
   "display_name": "Python 3",
   "language": "python",
   "name": "python3"
  },
  "language_info": {
   "codemirror_mode": {
    "name": "ipython",
    "version": 3
   },
   "file_extension": ".py",
   "mimetype": "text/x-python",
   "name": "python",
   "nbconvert_exporter": "python",
   "pygments_lexer": "ipython3",
   "version": "3.6.6"
  }
 },
 "nbformat": 4,
 "nbformat_minor": 2
}
